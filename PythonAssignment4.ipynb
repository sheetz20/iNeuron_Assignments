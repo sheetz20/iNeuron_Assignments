{
 "cells": [
  {
   "cell_type": "markdown",
   "metadata": {},
   "source": [
    "1.1 Write a Python Program(with class concepts) to find the area of the triangle using the below\n",
    "formula.\n",
    "area = (s*(s-a)*(s-b)*(s-c)) ** 0.5\n",
    "Function to take the length of the sides of triangle from user should be defined in the parent\n",
    "class and function to calculate the area should be defined in subclass.\n"
   ]
  },
  {
   "cell_type": "code",
   "execution_count": 18,
   "metadata": {},
   "outputs": [
    {
     "name": "stdout",
     "output_type": "stream",
     "text": [
      "enter first side 12\n",
      "enter second side 12\n",
      "enter third side 12\n"
     ]
    }
   ],
   "source": [
    "\n",
    "class Area:\n",
    "    def __init__(self,a,b,c):\n",
    "        self.a = a\n",
    "        self.b = b\n",
    "        self.c = c\n",
    "    def __str__(self):\n",
    "        return \"Three sides of trianlge are {} {} {}\".format(self.a,self.b,self.c)\n",
    "a = int(input(\"enter first side \"))\n",
    "b = int(input(\"enter second side \"))\n",
    "c = int(input(\"enter third side \"))\n",
    "\n",
    "\n",
    "class Triangle(Area):\n",
    "    def __init__(self,*args):\n",
    "        super(Triangle,self).__init__(*args)\n",
    "        self.p = float((a+self.b+self.c)/2)\n",
    "    def calculate(self):\n",
    "        area = math.sqrt(self.p*(self.p-self.a)*(self.p-self.b)*(self.p-self.c))\n",
    "        return area\n",
    "    def __str__(self):\n",
    "        return super(Triangle,self).__str__()+\" and perimeter: \"+str(self.p)\n",
    "\n",
    "find = Triangle(a,b,c)\n",
    "Area_Of_Triangle = find.calculate()\n",
    "print(Area_Of_Triangle)"
   ]
  },
  {
   "cell_type": "code",
   "execution_count": 19,
   "metadata": {},
   "outputs": [
    {
     "name": "stdout",
     "output_type": "stream",
     "text": [
      "62.353829072479584\n"
     ]
    }
   ],
   "source": [
    "import math\n",
    "class Triangle(Area):\n",
    "    def __init__(self,*args):\n",
    "        super(Triangle,self).__init__(*args)\n",
    "        self.p = float((a+self.b+self.c)/2)\n",
    "    def calculate(self):\n",
    "        area = math.sqrt(self.p*(self.p-self.a)*(self.p-self.b)*(self.p-self.c))\n",
    "        return area\n",
    "    def __str__(self):\n",
    "        return super(Triangle,self).__str__()+\" and perimeter: \"+str(self.p)\n",
    "\n",
    "find = Triangle(a,b,c)\n",
    "Area_Of_Triangle = find.calculate()\n",
    "print(Area_Of_Triangle)"
   ]
  },
  {
   "cell_type": "markdown",
   "metadata": {},
   "source": [
    "1.2 Write a function filter_long_words() that takes a list of words and an integer n and returns\n",
    "the list of words that are longer than n.\n"
   ]
  },
  {
   "cell_type": "code",
   "execution_count": 45,
   "metadata": {},
   "outputs": [
    {
     "name": "stdout",
     "output_type": "stream",
     "text": [
      "enter a value 4\n",
      "['Aniken', 'Marvel', 'Kafka']\n"
     ]
    }
   ],
   "source": [
    "def filter_long_words(lst,n):\n",
    "    words = []\n",
    "    for word in lst:\n",
    "        if len(word)>n:\n",
    "            words.append(word)\n",
    "    return words\n",
    "\n",
    "lst = ['Aniken','Marvel','Kafka','Ross','lily']\n",
    "n = int(input(\"enter a value \"))\n",
    "words = filter_long_words(lst,n)\n",
    "print(words)"
   ]
  },
  {
   "cell_type": "markdown",
   "metadata": {},
   "source": [
    "2.1 Write a Python program using function concept that maps list of words into a list of integers\n",
    "representing the lengths of the corresponding words.\n",
    "Hint: If a list [ ab,cde,erty] is passed on to the python function output should come as [2,3,4]\n",
    "Here 2,3 and 4 are the lengths of the words in the list.\n"
   ]
  },
  {
   "cell_type": "code",
   "execution_count": 42,
   "metadata": {},
   "outputs": [
    {
     "name": "stdout",
     "output_type": "stream",
     "text": [
      "[6, 6, 5, 4, 4]\n"
     ]
    }
   ],
   "source": [
    "def wordLength(lst):\n",
    "    length = []\n",
    "    for word in lst:\n",
    "        length.append(len(word))\n",
    "    return length\n",
    "\n",
    "listLength = wordLength(['Aniken','Marvel','Kafka','Ross','lily'])\n",
    "print(listLength)"
   ]
  },
  {
   "cell_type": "markdown",
   "metadata": {},
   "source": [
    "2.2 Write a Python function which takes a character (i.e. a string of length 1) and returns True if\n",
    "it is a vowel, False otherwise.\n"
   ]
  },
  {
   "cell_type": "code",
   "execution_count": 48,
   "metadata": {},
   "outputs": [
    {
     "name": "stdout",
     "output_type": "stream",
     "text": [
      "enter a character: e\n",
      "True\n"
     ]
    }
   ],
   "source": [
    "def findVowel(char):\n",
    "    if char in ['a','e','i','o','u']:\n",
    "        return True\n",
    "    return False\n",
    "\n",
    "char = input(\"enter a character: \")\n",
    "isVowel = findVowel(char)\n",
    "print(isVowel)"
   ]
  },
  {
   "cell_type": "code",
   "execution_count": null,
   "metadata": {},
   "outputs": [],
   "source": []
  }
 ],
 "metadata": {
  "kernelspec": {
   "display_name": "Python 3",
   "language": "python",
   "name": "python3"
  },
  "language_info": {
   "codemirror_mode": {
    "name": "ipython",
    "version": 3
   },
   "file_extension": ".py",
   "mimetype": "text/x-python",
   "name": "python",
   "nbconvert_exporter": "python",
   "pygments_lexer": "ipython3",
   "version": "3.8.3"
  }
 },
 "nbformat": 4,
 "nbformat_minor": 4
}
